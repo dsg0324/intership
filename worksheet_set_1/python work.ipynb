{
 "cells": [
  {
   "cell_type": "code",
   "execution_count": 1,
   "id": "27f7285e-bc56-4fb5-8c02-f89c70a07f8e",
   "metadata": {},
   "outputs": [
    {
     "name": "stdin",
     "output_type": "stream",
     "text": [
      "Enter a number:  5\n"
     ]
    },
    {
     "name": "stdout",
     "output_type": "stream",
     "text": [
      "The factorial of 5 is 120\n"
     ]
    }
   ],
   "source": [
    "# Function to find the factorial of a number\n",
    "def factorial(n):\n",
    "    if n == 0 or n == 1:\n",
    "        return 1\n",
    "    else:\n",
    "        return n * factorial(n - 1)\n",
    "\n",
    "# Input from the user\n",
    "num = int(input(\"Enter a number: \"))\n",
    "\n",
    "# Check if the number is non-negative\n",
    "if num < 0:\n",
    "    print(\"Factorial is not defined for negative numbers.\")\n",
    "else:\n",
    "    print(f\"The factorial of {num} is {factorial(num)}\")\n"
   ]
  },
  {
   "cell_type": "code",
   "execution_count": 2,
   "id": "dc282867-024d-42e7-8bb5-482781125d78",
   "metadata": {},
   "outputs": [
    {
     "name": "stdin",
     "output_type": "stream",
     "text": [
      "Enter a number:  25\n"
     ]
    },
    {
     "name": "stdout",
     "output_type": "stream",
     "text": [
      "25 is a composite number.\n"
     ]
    }
   ],
   "source": [
    "# Function to check if a number is prime\n",
    "def is_prime(n):\n",
    "    if n <= 1:\n",
    "        return False  # Numbers less than or equal to 1 are not prime\n",
    "    for i in range(2, int(n**0.5) + 1):  # Check divisibility up to the square root of n\n",
    "        if n % i == 0:\n",
    "            return False\n",
    "    return True\n",
    "\n",
    "# Input from the user\n",
    "num = int(input(\"Enter a number: \"))\n",
    "\n",
    "# Check if the number is prime or composite\n",
    "if num <= 1:\n",
    "    print(f\"{num} is neither prime nor composite.\")\n",
    "elif is_prime(num):\n",
    "    print(f\"{num} is a prime number.\")\n",
    "else:\n",
    "    print(f\"{num} is a composite number.\")\n"
   ]
  },
  {
   "cell_type": "code",
   "execution_count": 3,
   "id": "1e3f9bc7-52b2-4d9b-bc55-b27b7bc4f9d8",
   "metadata": {},
   "outputs": [
    {
     "name": "stdin",
     "output_type": "stream",
     "text": [
      "Enter a string:  honest\n"
     ]
    },
    {
     "name": "stdout",
     "output_type": "stream",
     "text": [
      "\"honest\" is not a palindrome.\n"
     ]
    }
   ],
   "source": [
    "# Function to check if a string is a palindrome\n",
    "def is_palindrome(s):\n",
    "    # Convert the string to lowercase and remove spaces or non-alphanumeric characters\n",
    "    cleaned_string = ''.join(char.lower() for char in s if char.isalnum())\n",
    "    # Check if the cleaned string is equal to its reverse\n",
    "    return cleaned_string == cleaned_string[::-1]\n",
    "\n",
    "# Input from the user\n",
    "string = input(\"Enter a string: \")\n",
    "\n",
    "# Check if the string is a palindrome\n",
    "if is_palindrome(string):\n",
    "    print(f'\"{string}\" is a palindrome.')\n",
    "else:\n",
    "    print(f'\"{string}\" is not a palindrome.')\n"
   ]
  },
  {
   "cell_type": "code",
   "execution_count": 4,
   "id": "c82c9b06-45c7-42e9-abe6-3c78e64586c4",
   "metadata": {},
   "outputs": [
    {
     "name": "stdin",
     "output_type": "stream",
     "text": [
      "Enter the first side (a or b):  25\n",
      "Enter the second side (a, b or c):  45\n",
      "Are you looking for the hypotenuse (enter 'c') or another leg (enter 'a' or 'b')?  c\n"
     ]
    },
    {
     "name": "stdout",
     "output_type": "stream",
     "text": [
      "The third side is: 51.478150704935004\n"
     ]
    }
   ],
   "source": [
    "import math\n",
    "\n",
    "# Function to calculate the third side of a right-angled triangle\n",
    "def find_third_side(a=None, b=None, c=None):\n",
    "    if c is None:  # Finding the hypotenuse\n",
    "        return math.sqrt(a**2 + b**2)\n",
    "    elif a is None:  # Finding one of the legs\n",
    "        return math.sqrt(c**2 - b**2)\n",
    "    elif b is None:  # Finding the other leg\n",
    "        return math.sqrt(c**2 - a**2)\n",
    "    else:\n",
    "        return \"Invalid input. Provide exactly two sides.\"\n",
    "\n",
    "# Input from the user\n",
    "side1 = float(input(\"Enter the first side (a or b): \"))\n",
    "side2 = float(input(\"Enter the second side (a, b or c): \"))\n",
    "which_side = input(\"Are you looking for the hypotenuse (enter 'c') or another leg (enter 'a' or 'b')? \")\n",
    "\n",
    "# Calculate the third side\n",
    "if which_side == 'c':\n",
    "    result = find_third_side(a=side1, b=side2)\n",
    "elif which_side == 'a':\n",
    "    result = find_third_side(b=side1, c=side2)\n",
    "elif which_side == 'b':\n",
    "    result = find_third_side(a=side1, c=side2)\n",
    "else:\n",
    "    result = \"Invalid input.\"\n",
    "\n",
    "print(f\"The third side is: {result}\")\n"
   ]
  },
  {
   "cell_type": "code",
   "execution_count": 5,
   "id": "b45d7021-31b2-4179-aa7e-de3f75bda825",
   "metadata": {},
   "outputs": [
    {
     "name": "stdin",
     "output_type": "stream",
     "text": [
      "Enter a string:  white\n"
     ]
    },
    {
     "name": "stdout",
     "output_type": "stream",
     "text": [
      "Character Frequency:\n",
      "'w': 1\n",
      "'h': 1\n",
      "'i': 1\n",
      "'t': 1\n",
      "'e': 1\n"
     ]
    }
   ],
   "source": [
    "# Function to count the frequency of each character\n",
    "def char_frequency(s):\n",
    "    frequency = {}  # Dictionary to store character frequencies\n",
    "    for char in s:\n",
    "        if char in frequency:\n",
    "            frequency[char] += 1\n",
    "        else:\n",
    "            frequency[char] = 1\n",
    "    return frequency\n",
    "\n",
    "# Input from the user\n",
    "string = input(\"Enter a string: \")\n",
    "\n",
    "# Get the character frequencies\n",
    "frequencies = char_frequency(string)\n",
    "\n",
    "# Print the frequency of each character\n",
    "print(\"Character Frequency:\")\n",
    "for char, count in frequencies.items():\n",
    "    print(f\"'{char}': {count}\")\n"
   ]
  },
  {
   "cell_type": "code",
   "execution_count": null,
   "id": "c29e53a5-621e-4c22-953f-6a160f911c08",
   "metadata": {},
   "outputs": [],
   "source": []
  }
 ],
 "metadata": {
  "kernelspec": {
   "display_name": "Python 3 (ipykernel)",
   "language": "python",
   "name": "python3"
  },
  "language_info": {
   "codemirror_mode": {
    "name": "ipython",
    "version": 3
   },
   "file_extension": ".py",
   "mimetype": "text/x-python",
   "name": "python",
   "nbconvert_exporter": "python",
   "pygments_lexer": "ipython3",
   "version": "3.11.7"
  }
 },
 "nbformat": 4,
 "nbformat_minor": 5
}
